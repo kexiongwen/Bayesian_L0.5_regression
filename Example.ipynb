{
 "cells": [
  {
   "cell_type": "code",
   "execution_count": 1,
   "metadata": {},
   "outputs": [],
   "source": [
    "import numpy as np\n",
    "from scipy.linalg import toeplitz\n",
    "from Bayesian_Lhalf_regression import Bayesian_L_half_regression"
   ]
  },
  {
   "cell_type": "code",
   "execution_count": 2,
   "metadata": {},
   "outputs": [],
   "source": [
    "N=500\n",
    "P=5000\n",
    "Corr=0.5**toeplitz(np.arange(0,P),np.arange(0,P))\n",
    "beta=np.zeros((P,1))\n",
    "beta[0]=3\n",
    "beta[1]=1.5\n",
    "beta[4]=2\n",
    "beta[9]=1\n",
    "beta[12]=1\n",
    "beta[18]=0.5\n",
    "beta[25]=-0.5\n",
    "beta[30]=2.0\n",
    "beta[45]=-1.2\n",
    "beta[50]=-1\n",
    "sigma=1\n",
    "X=np.random.multivariate_normal(np.zeros(P), Corr, N)\n",
    "Y=X@beta+sigma*np.random.randn(N,1)"
   ]
  },
  {
   "cell_type": "code",
   "execution_count": 3,
   "metadata": {},
   "outputs": [],
   "source": [
    "beta_sample,sigma2_sample=Bayesian_L_half_regression(Y,X,M=10000,burn_in=10000)"
   ]
  },
  {
   "cell_type": "code",
   "execution_count": 4,
   "metadata": {},
   "outputs": [],
   "source": [
    "beta_mean=np.mean(beta_sample,axis=1)\n",
    "beta_std=np.std(beta_sample,axis=1)\n",
    "sigma2_mean=np.mean(sigma2_sample)"
   ]
  },
  {
   "cell_type": "code",
   "execution_count": 7,
   "metadata": {},
   "outputs": [
    {
     "data": {
      "text/plain": [
       "(array([ 0,  1,  4,  9, 12, 18, 25, 30, 45, 50]),)"
      ]
     },
     "execution_count": 7,
     "metadata": {},
     "output_type": "execute_result"
    }
   ],
   "source": [
    "np.where(np.abs(beta_mean/beta_std)>1.96)"
   ]
  },
  {
   "cell_type": "code",
   "execution_count": 8,
   "metadata": {},
   "outputs": [
    {
     "data": {
      "text/plain": [
       "0.15603100522231947"
      ]
     },
     "execution_count": 8,
     "metadata": {},
     "output_type": "execute_result"
    }
   ],
   "source": [
    "sigma2_mean"
   ]
  }
 ],
 "metadata": {
  "kernelspec": {
   "display_name": "base",
   "language": "python",
   "name": "python3"
  },
  "language_info": {
   "codemirror_mode": {
    "name": "ipython",
    "version": 3
   },
   "file_extension": ".py",
   "mimetype": "text/x-python",
   "name": "python",
   "nbconvert_exporter": "python",
   "pygments_lexer": "ipython3",
   "version": "3.9.13"
  },
  "orig_nbformat": 4
 },
 "nbformat": 4,
 "nbformat_minor": 2
}
