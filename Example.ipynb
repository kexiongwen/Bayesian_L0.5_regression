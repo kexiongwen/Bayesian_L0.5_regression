{
 "cells": [
  {
   "cell_type": "code",
   "execution_count": 25,
   "metadata": {},
   "outputs": [],
   "source": [
    "import numpy as np\n",
    "from scipy.linalg import toeplitz\n",
    "from Bayesian_Lhalf_regression import Bayesian_L_half_regression\n",
    "from Bayesian_Lhalf_regression import Conjugated_L_half"
   ]
  },
  {
   "cell_type": "code",
   "execution_count": 26,
   "metadata": {},
   "outputs": [],
   "source": [
    "N=500\n",
    "P=5000\n",
    "Corr=0.5**toeplitz(np.arange(0,P),np.arange(0,P))\n",
    "beta=np.zeros((P,1))\n",
    "beta[0]=3\n",
    "beta[1]=1.5\n",
    "beta[4]=2\n",
    "beta[9]=1\n",
    "beta[12]=1\n",
    "beta[18]=0.5\n",
    "beta[25]=-0.5\n",
    "beta[30]=2.0\n",
    "beta[45]=-1.2\n",
    "beta[50]=-1\n",
    "sigma=1\n",
    "X=np.random.multivariate_normal(np.zeros(P), Corr, N)\n",
    "Y=X@beta+sigma*np.random.randn(N,1)"
   ]
  },
  {
   "cell_type": "code",
   "execution_count": 27,
   "metadata": {},
   "outputs": [],
   "source": [
    "beta_sample,sigma2_sample=Bayesian_L_half_regression(Y,X,M=10000,burn_in=10000)"
   ]
  },
  {
   "cell_type": "code",
   "execution_count": 28,
   "metadata": {},
   "outputs": [],
   "source": [
    "beta_sample_conjugated,sigma2_sample_conjugated=Conjugated_L_half(Y,X,M=10000,burn_in=10000)"
   ]
  },
  {
   "cell_type": "code",
   "execution_count": 29,
   "metadata": {},
   "outputs": [],
   "source": [
    "beta_mean=np.mean(beta_sample,axis=1)\n",
    "beta_median=np.median(beta_sample,axis=1)\n",
    "sigma2_mean=np.mean(sigma2_sample)\n",
    "sigma2_median=np.median(sigma2_sample)\n",
    "\n",
    "beta_mean_conjugated=np.mean(beta_sample_conjugated,axis=1)\n",
    "beta_median_conjugated=np.median(beta_sample_conjugated,axis=1)\n",
    "sigma2_mean_conjugated=np.mean(sigma2_sample_conjugated)\n",
    "sigma2_median_conjugated=np.median(sigma2_sample_conjugated)"
   ]
  },
  {
   "cell_type": "code",
   "execution_count": 30,
   "metadata": {},
   "outputs": [
    {
     "name": "stdout",
     "output_type": "stream",
     "text": [
      "0.17111384009455727\n",
      "0.16223331602137603\n",
      "0.1234943914435541\n",
      "0.11445688410885103\n"
     ]
    }
   ],
   "source": [
    "print(sigma2_mean)\n",
    "print(sigma2_median)\n",
    "print(sigma2_mean_conjugated)\n",
    "print(sigma2_median_conjugated)"
   ]
  },
  {
   "cell_type": "code",
   "execution_count": 31,
   "metadata": {},
   "outputs": [
    {
     "data": {
      "text/plain": [
       "0.36311803484154426"
      ]
     },
     "execution_count": 31,
     "metadata": {},
     "output_type": "execute_result"
    }
   ],
   "source": [
    "np.linalg.norm(beta.ravel()-beta_mean_conjugated)"
   ]
  },
  {
   "cell_type": "code",
   "execution_count": 32,
   "metadata": {},
   "outputs": [
    {
     "data": {
      "text/plain": [
       "0.35324744280662435"
      ]
     },
     "execution_count": 32,
     "metadata": {},
     "output_type": "execute_result"
    }
   ],
   "source": [
    "np.linalg.norm(beta.ravel()-beta_mean)"
   ]
  },
  {
   "cell_type": "code",
   "execution_count": null,
   "metadata": {},
   "outputs": [],
   "source": []
  }
 ],
 "metadata": {
  "kernelspec": {
   "display_name": "base",
   "language": "python",
   "name": "python3"
  },
  "language_info": {
   "codemirror_mode": {
    "name": "ipython",
    "version": 3
   },
   "file_extension": ".py",
   "mimetype": "text/x-python",
   "name": "python",
   "nbconvert_exporter": "python",
   "pygments_lexer": "ipython3",
   "version": "3.9.13"
  },
  "orig_nbformat": 4
 },
 "nbformat": 4,
 "nbformat_minor": 2
}
