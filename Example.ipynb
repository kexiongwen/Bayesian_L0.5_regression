{
 "cells": [
  {
   "cell_type": "code",
   "execution_count": null,
   "metadata": {},
   "outputs": [],
   "source": [
    "import numpy as np\n",
    "from scipy.linalg import toeplitz\n",
    "from Bayesian_Lhalf_regression import Bayesian_L_half_regression\n",
    "from Bayesian_Lhalf_regression import Conjugated_L_half"
   ]
  },
  {
   "cell_type": "code",
   "execution_count": null,
   "metadata": {},
   "outputs": [],
   "source": [
    "N=500\n",
    "P=5000\n",
    "Corr=0.5**toeplitz(np.arange(0,P),np.arange(0,P))\n",
    "beta=np.zeros((P,1))\n",
    "beta[0]=3\n",
    "beta[1]=1.5\n",
    "beta[4]=2\n",
    "beta[9]=1\n",
    "beta[12]=1\n",
    "beta[18]=0.5\n",
    "beta[25]=-0.5\n",
    "beta[30]=2.0\n",
    "beta[45]=-1.2\n",
    "beta[50]=-1\n",
    "sigma=1\n",
    "X=np.random.multivariate_normal(np.zeros(P), Corr, N)\n",
    "Y=X@beta+sigma*np.random.randn(N,1)"
   ]
  },
  {
   "cell_type": "code",
   "execution_count": null,
   "metadata": {},
   "outputs": [],
   "source": [
    "beta_sample,sigma2_sample=Bayesian_L_half_regression(Y,X,M=10000,burn_in=10000)"
   ]
  },
  {
   "cell_type": "code",
   "execution_count": null,
   "metadata": {},
   "outputs": [],
   "source": [
    "beta_sample_conjugated,sigma2_sample_conjugated=Conjugated_L_half(Y,X,M=10000,burn_in=10000)"
   ]
  },
  {
   "cell_type": "code",
   "execution_count": null,
   "metadata": {},
   "outputs": [],
   "source": [
    "beta_mean=np.mean(beta_sample,axis=1)\n",
    "beta_median=np.median(beta_sample,axis=1)\n",
    "sigma2_mean=np.mean(sigma2_sample)\n",
    "sigma2_median=np.median(sigma2_sample)\n",
    "\n",
    "beta_mean_conjugated=np.mean(beta_sample_conjugated,axis=1)\n",
    "beta_median_conjugated=np.median(beta_sample_conjugated,axis=1)\n",
    "sigma2_mean_conjugated=np.mean(sigma2_sample_conjugated)\n",
    "sigma2_median_conjugated=np.median(sigma2_sample_conjugated)"
   ]
  },
  {
   "cell_type": "code",
   "execution_count": null,
   "metadata": {},
   "outputs": [],
   "source": [
    "print(sigma2_mean)\n",
    "print(sigma2_median)\n",
    "print(sigma2_mean_conjugated)\n",
    "print(sigma2_median_conjugated)"
   ]
  },
  {
   "cell_type": "code",
   "execution_count": null,
   "metadata": {},
   "outputs": [],
   "source": [
    "np.linalg.norm(beta.ravel()-beta_mean_conjugated)"
   ]
  },
  {
   "cell_type": "code",
   "execution_count": null,
   "metadata": {},
   "outputs": [],
   "source": [
    "beta_mean_conjugated=np.mean(beta_sample_conjugated,axis=1)"
   ]
  }
 ],
 "metadata": {
  "kernelspec": {
   "display_name": "base",
   "language": "python",
   "name": "python3"
  },
  "language_info": {
   "codemirror_mode": {
    "name": "ipython",
    "version": 3
   },
   "file_extension": ".py",
   "mimetype": "text/x-python",
   "name": "python",
   "nbconvert_exporter": "python",
   "pygments_lexer": "ipython3",
   "version": "3.9.16"
  },
  "orig_nbformat": 4
 },
 "nbformat": 4,
 "nbformat_minor": 2
}
